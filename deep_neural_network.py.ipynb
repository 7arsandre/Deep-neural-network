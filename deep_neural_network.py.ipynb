{
 "cells": [
  {
   "cell_type": "markdown",
   "metadata": {},
   "source": [
    "## Deep neural network with my own dataset"
   ]
  },
  {
   "cell_type": "code",
   "execution_count": 1,
   "metadata": {
    "collapsed": true
   },
   "outputs": [],
   "source": [
    "import tensorflow as tf\n",
    "import glob\n",
    "import numpy as np\n",
    "import matplotlib.pyplot as plt\n",
    "from scipy.misc import imresize, imread\n",
    "import random\n",
    "from random import randint\n",
    "\n",
    "plt.style.use('ggplot')"
   ]
  },
  {
   "cell_type": "code",
   "execution_count": 2,
   "metadata": {
    "collapsed": true
   },
   "outputs": [],
   "source": [
    "#The most essential components to build a deep neural network consist of a feed forward neural network,\n",
    "#a cost function followed by a function that minimizes the cost (backpropagation), \n",
    "#and for training the network we combine the feed forward network with the backpropagation in an epoch.\n",
    "#An epoch is a complete pass through a given dataset. \n",
    "\n",
    "#This dataset consist of both big and small letters from A-J"
   ]
  },
  {
   "cell_type": "code",
   "execution_count": 3,
   "metadata": {},
   "outputs": [
    {
     "name": "stdout",
     "output_type": "stream",
     "text": [
      "Currently loading class : A\n",
      "Currently loading class : B\n",
      "Currently loading class : C\n",
      "Currently loading class : D\n",
      "Currently loading class : E\n",
      "Currently loading class : F\n",
      "Currently loading class : G\n",
      "Currently loading class : H\n",
      "Currently loading class : I\n",
      "Currently loading class : J\n",
      "DONE loading!\n"
     ]
    }
   ],
   "source": [
    "classes = ['A', 'B', 'C', 'D', 'E', 'F', 'G', 'H', 'I', 'J']\n",
    "\n",
    "data_train = []\n",
    "labels_train = []\n",
    "\n",
    "data_test = []\n",
    "labels_test = []\n",
    "\n",
    "data_trainset = ['A/*', 'B/*', 'C/*','D/*','E/*', 'F/*', 'G/*', 'H/*', 'I/*', 'J/*']\n",
    "\n",
    "for label in range(len(classes)):\n",
    "    print('Currently loading class: ', classes[label])\n",
    "    idx = 0\n",
    "    for filename in glob.glob(data_trainset[label]):\n",
    "\n",
    "        try:\n",
    "            img = imread(filename)\n",
    "\n",
    "            if(len(img.shape) != 2):\n",
    "                break\n",
    "\n",
    "            img = img.astype(np.float32)\n",
    "            img = imresize(img, (28,28))\n",
    "\n",
    "            if(idx < 50):\n",
    "                idx += 1\n",
    "                data_test.append(img)\n",
    "                labels_test.append(label)\n",
    "            else:\n",
    "                data_train.append(img)\n",
    "                labels_train.append(label)\n",
    "        except OSError:\n",
    "            break\n",
    "print('DONE loading!')"
   ]
  },
  {
   "cell_type": "code",
   "execution_count": 4,
   "metadata": {},
   "outputs": [
    {
     "data": {
      "image/png": "[encoded data removed]",
      "text/plain": [
       "<matplotlib.figure.Figure at 0x7f3924921f60>"
      ]
     },
     "metadata": {},
     "output_type": "display_data"
    }
   ],
   "source": [
    "#plotting some examples from the dataset\n",
    "def plot_grid_example(names, data, labels):\n",
    "    plt.figure()\n",
    "    m,n = 4,4\n",
    "    random_array = random.sample(range(len(data)), m*n)\n",
    "    \n",
    "    for i in range(m*n):\n",
    "        plt.subplot(m,n,i+1)\n",
    "        j = random_array[i]\n",
    "        plt.title(names[labels[j]])\n",
    "        img = data[j]\n",
    "        plt.imshow(img, cmap = 'Greys_r')\n",
    "        plt.axis('off')\n",
    "    plt.tight_layout()\n",
    "    plt.show()\n",
    "\n",
    "plot_grid_example(classes, data_train, labels_train)"
   ]
  },
  {
   "cell_type": "code",
   "execution_count": 5,
   "metadata": {
    "collapsed": true
   },
   "outputs": [],
   "source": [
    "#Tensorflow requires that the data is represented in an array,\n",
    "#with datatype as either float32 or float64\n",
    "data_train = np.asarray(data_train, dtype = np.float32)\n",
    "labels_train = np.asarray(labels_train, dtype = np.float32)\n",
    "data_test = np.asarray(data_test, dtype = np.float32)\n",
    "labels_test = np.asarray(labels_test, dtype = np.float32)\n",
    "\n",
    "image_size = 28\n",
    "num_labels_train = len(classes)\n",
    "num_channels = 1 # grayscale\n",
    "\n",
    "def reformat(data_set, label_set):\n",
    "    #the data set is shaped into a suitable shape\n",
    "    data_set = data_set.reshape(\n",
    "    (-1, image_size, image_size, num_channels)).astype(np.float32)\n",
    "    #the labels are now getting one-hot encoded\n",
    "    label_set = (np.arange(num_labels_train) == label_set[:,None]).astype(np.float32)\n",
    "    return data_set, label_set\n",
    "\n",
    "data_train, labels_train = reformat(data_train, labels_train)\n",
    "data_test, labels_test = reformat(data_test, labels_test)"
   ]
  },
  {
   "cell_type": "code",
   "execution_count": 6,
   "metadata": {
    "collapsed": true
   },
   "outputs": [],
   "source": [
    "#Parameters for the network\n",
    "n_neurons_hl1 = 500\n",
    "n_neurons_hl2 = 500\n",
    "n_neurons_hl3 = 500\n",
    "\n",
    "n_classes = len(classes)\n",
    "batch_size = 100\n",
    "costs = [] #for plotting costs\n",
    "\n",
    "\n",
    "x = tf.placeholder(dtype = tf.float32, shape = [None, 28*28])\n",
    "y = tf.placeholder(dtype = tf.float32)\n",
    "\n",
    "#we need to reshape the entire test dataset, since the shape of placeholder 'x' is determined\n",
    "data_test = np.reshape(data_test, (-1, 28*28))"
   ]
  },
  {
   "cell_type": "code",
   "execution_count": 7,
   "metadata": {
    "collapsed": true
   },
   "outputs": [],
   "source": [
    "def neural_network_model(data_train):\n",
    "    hidden_1_layer = {'weights': tf.Variable(tf.random_normal([28*28, n_neurons_hl1])),\n",
    "                        'biases': tf.Variable(tf.random_normal([n_neurons_hl1]))}\n",
    "\n",
    "    hidden_2_layer = {'weights': tf.Variable(tf.random_normal([n_neurons_hl1, n_neurons_hl2])),\n",
    "                        'biases': tf.Variable(tf.random_normal([n_neurons_hl2]))}\n",
    "\n",
    "    hidden_3_layer = {'weights': tf.Variable(tf.random_normal([n_neurons_hl2, n_neurons_hl3])),\n",
    "                        'biases': tf.Variable(tf.random_normal([n_neurons_hl3]))}\n",
    "\n",
    "    output_layer = {'weights': tf.Variable(tf.random_normal([n_neurons_hl3, n_classes])),\n",
    "                        'biases': tf.Variable(tf.random_normal([n_classes]))}\n",
    "\n",
    "    #(input_data_train * weights) + biases\n",
    "\n",
    "    l1 = tf.add(tf.matmul(data_train, hidden_1_layer['weights']), hidden_1_layer['biases'] )\n",
    "    l1 = tf.nn.relu(l1)\n",
    "\n",
    "    l2 = tf.add(tf.matmul(l1, hidden_2_layer['weights']), hidden_2_layer['biases'] )\n",
    "    l2 = tf.nn.relu(l2)\n",
    "\n",
    "    l3 = tf.add(tf.matmul(l2, hidden_3_layer['weights']), hidden_3_layer['biases'] )\n",
    "    l3 = tf.nn.relu(l3)\n",
    "\n",
    "    output= tf.add(tf.matmul(l3, output_layer['weights']), output_layer['biases'] )\n",
    "\n",
    "    return output\n",
    "\n",
    "def train_neural_network(x):\n",
    "    prediction = neural_network_model(x)\n",
    "    cost = tf.reduce_mean( tf.nn.softmax_cross_entropy_with_logits(logits = prediction,\n",
    "                                                                   labels = y))\n",
    "    optimizer = tf.train.AdamOptimizer().minimize(cost)\n",
    "    data_train_test = data_train\n",
    "    total_epochs = 10    \n",
    "\n",
    "    with tf.Session() as sess:\n",
    "\n",
    "        sess.run(tf.global_variables_initializer())\n",
    "        batch_size = len(data_train) // 200\n",
    "        for epoch in range(total_epochs):\n",
    "            epoch_loss = 0\n",
    "            for i in range(0, len(data_train), batch_size):\n",
    "                #randomizes the batch\n",
    "                indices = np.random.choice(data_train.shape[0], batch_size)\n",
    "                batch_data_train = data_train[indices]\n",
    "                batch_labels_train = labels_train[indices]\n",
    "                \n",
    "                #needs to reshape every loop, since the \n",
    "                #placeholder 'x' requires a specific shape\n",
    "                batch_data_train = np.reshape(batch_data_train, (-1, 28*28))\n",
    "                \n",
    "                _, c = sess.run([optimizer, cost], feed_dict = {x: batch_data_train,\n",
    "                                                                y: batch_labels_train})\n",
    "                \n",
    "                epoch_loss += c\n",
    "            costs.append(c)\n",
    "            print('Total loss on epoch ', epoch +1, '/' , total_epochs, \": \", epoch_loss)\n",
    "    \n",
    "        correct = tf.equal(tf.argmax(prediction,1), tf.argmax(y,1))\n",
    "        accuracy = tf.reduce_mean(tf.cast(correct, dtype = tf.float32))\n",
    "        print('Accuraccy when testing with a new dataset: ', accuracy.eval({x:data_test, y :labels_test}))"
   ]
  },
  {
   "cell_type": "code",
   "execution_count": 8,
   "metadata": {
    "scrolled": true
   },
   "outputs": [
    {
     "name": "stdout",
     "output_type": "stream",
     "text": [
      "Total loss on epoch  1 / 10 :  205660356.016\n",
      "Total loss on epoch  2 / 10 :  73004281.5312\n",
      "Total loss on epoch  3 / 10 :  48847716.418\n",
      "Total loss on epoch  4 / 10 :  35917380.6191\n",
      "Total loss on epoch  5 / 10 :  24856464.918\n",
      "Total loss on epoch  6 / 10 :  19729656.0039\n",
      "Total loss on epoch  7 / 10 :  14107723.8184\n",
      "Total loss on epoch  8 / 10 :  11564646.2129\n",
      "Total loss on epoch  9 / 10 :  9354936.4939\n",
      "Total loss on epoch  10 / 10 :  7502177.54968\n",
      "Accuraccy when testing with a new dataset:  0.758\n"
     ]
    }
   ],
   "source": [
    "train_neural_network(x)"
   ]
  },
  {
   "cell_type": "code",
   "execution_count": 9,
   "metadata": {},
   "outputs": [
    {
     "data": {
      "image/png": "[encoded data removed]",
      "text/plain": [
       "<matplotlib.figure.Figure at 0x7f3924099358>"
      ]
     },
     "metadata": {},
     "output_type": "display_data"
    }
   ],
   "source": [
    "def plot_costs(costs = costs):\n",
    "    plt.plot(costs)\n",
    "    plt.ylabel(\"Mean squared error\")\n",
    "    plt.xlabel(\"Epoch\")\n",
    "    plt.show()\n",
    "\n",
    "plot_costs()"
   ]
  }
 ],
 "metadata": {
  "kernelspec": {
   "display_name": "Python 3",
   "language": "python",
   "name": "python3"
  },
  "language_info": {
   "codemirror_mode": {
    "name": "ipython",
    "version": 3
   },
   "file_extension": ".py",
   "mimetype": "text/x-python",
   "name": "python",
   "nbconvert_exporter": "python",
   "pygments_lexer": "ipython3",
   "version": "3.6.1"
  }
 },
 "nbformat": 4,
 "nbformat_minor": 2
}
